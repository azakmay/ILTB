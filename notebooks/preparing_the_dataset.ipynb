{
 "cells": [
  {
   "cell_type": "code",
   "execution_count": 2,
   "id": "9240b3d2",
   "metadata": {},
   "outputs": [],
   "source": [
    "import json\n",
    "import boto3\n",
    "import pandas as pd\n",
    "from dotenv import load_dotenv"
   ]
  },
  {
   "cell_type": "code",
   "execution_count": null,
   "id": "0f9b38c4",
   "metadata": {},
   "outputs": [],
   "source": [
    "import awswrangler as wr"
   ]
  },
  {
   "cell_type": "code",
   "execution_count": null,
   "id": "88a0cab8",
   "metadata": {},
   "outputs": [],
   "source": [
    "def read_in_file(bucket, path):\n",
    "    s3_client = boto3.client('s3')\n",
    "    s3_response_object = s3_client.get_object(Bucket=bucket, Key=path)\n",
    "    file_str = s3_response_object['Body'].read()\n",
    "    return file_str.decode('utf-8')"
   ]
  },
  {
   "cell_type": "code",
   "execution_count": null,
   "id": "ee654103",
   "metadata": {},
   "outputs": [],
   "source": [
    "BUCKET = os.getenv('DATA_BUCKET')"
   ]
  },
  {
   "cell_type": "code",
   "execution_count": null,
   "id": "86445482",
   "metadata": {},
   "outputs": [],
   "source": [
    "files = wr.s3.list_objects(path=f's3://{BUCKET}/colossus-transcripts/json')"
   ]
  },
  {
   "cell_type": "code",
   "execution_count": null,
   "id": "e20cb8b0",
   "metadata": {},
   "outputs": [],
   "source": [
    "lines = []\n",
    "for path in files[:30]:\n",
    "    file_str = read_in_file(bucket=f'{BUCKET}', path=\"/\".join(path.split('/')[3:]))\n",
    "    items = json.loads(file_str)\n",
    "    if items[0]['name'] == 'Patrick':\n",
    "        questions = items[0::2]\n",
    "        responses = items[1::2]\n",
    "    else:\n",
    "        questions = items[1::2]\n",
    "        responses = items[2::2]\n",
    "    for question, response in zip(questions, responses):\n",
    "        question = question['response']\n",
    "        completion = response['response']\n",
    "        lines.append({'prompt': question, 'completion': completion})"
   ]
  },
  {
   "cell_type": "code",
   "execution_count": null,
   "id": "07d5b523",
   "metadata": {},
   "outputs": [],
   "source": [
    "df = pd.DataFrame(lines)"
   ]
  },
  {
   "cell_type": "code",
   "execution_count": null,
   "id": "f8495495",
   "metadata": {},
   "outputs": [],
   "source": [
    "df.head()"
   ]
  },
  {
   "cell_type": "code",
   "execution_count": null,
   "id": "d463b50d",
   "metadata": {},
   "outputs": [],
   "source": [
    "df.tail()"
   ]
  },
  {
   "cell_type": "code",
   "execution_count": null,
   "id": "01b89af4",
   "metadata": {},
   "outputs": [],
   "source": [
    "df.shape"
   ]
  },
  {
   "cell_type": "code",
   "execution_count": null,
   "id": "4d8dd6aa",
   "metadata": {},
   "outputs": [],
   "source": [
    "df.to_csv('C:\\Temp\\iltb.csv')"
   ]
  },
  {
   "cell_type": "code",
   "execution_count": null,
   "id": "01006958",
   "metadata": {},
   "outputs": [],
   "source": []
  }
 ],
 "metadata": {
  "kernelspec": {
   "display_name": "Python 3 (ipykernel)",
   "language": "python",
   "name": "python3"
  },
  "language_info": {
   "codemirror_mode": {
    "name": "ipython",
    "version": 3
   },
   "file_extension": ".py",
   "mimetype": "text/x-python",
   "name": "python",
   "nbconvert_exporter": "python",
   "pygments_lexer": "ipython3",
   "version": "3.9.13"
  }
 },
 "nbformat": 4,
 "nbformat_minor": 5
}
