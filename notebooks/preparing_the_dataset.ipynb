{
 "cells": [
  {
   "cell_type": "code",
   "execution_count": 2,
   "id": "9240b3d2",
   "metadata": {},
   "outputs": [],
   "source": [
    "import json\n",
    "import boto3\n",
    "import pandas as pd\n",
    "import pandas as pd"
   ]
  },
  {
   "cell_type": "code",
   "execution_count": 3,
   "id": "88a0cab8",
   "metadata": {},
   "outputs": [],
   "source": [
    "def read_in_file(bucket, path):\n",
    "    s3_client = boto3.client('s3')\n",
    "    s3_response_object = s3_client.get_object(Bucket=bucket, Key=path)\n",
    "    file_str = s3_response_object['Body'].read()\n",
    "    return file_str.decode('utf-8')"
   ]
  },
  {
   "cell_type": "code",
   "execution_count": 5,
   "id": "6cc94943",
   "metadata": {},
   "outputs": [],
   "source": [
    "file_str = read_in_file(bucket='scrape-projects', path='colossus-transcripts/json/A-Deep-Dive-into-Hedge-Funds.json')"
   ]
  },
  {
   "cell_type": "code",
   "execution_count": 7,
   "id": "857905d7",
   "metadata": {},
   "outputs": [],
   "source": [
    "items = json.loads(file_str)"
   ]
  },
  {
   "cell_type": "code",
   "execution_count": 22,
   "id": "48288ccd",
   "metadata": {},
   "outputs": [
    {
     "data": {
      "text/plain": [
       "{'name': 'Patrick',\n",
       " 'response': \"What would you say is the main ... Not getting into the specifics obviously, because the whole point is that everyone's experience is unique and different. But at the archetype level, can you describe what people are trying to get out of the experience or the basic structure of what you do?\"}"
      ]
     },
     "execution_count": 22,
     "metadata": {},
     "output_type": "execute_result"
    }
   ],
   "source": [
    "items[1]"
   ]
  },
  {
   "cell_type": "code",
   "execution_count": 67,
   "id": "22b35e75",
   "metadata": {},
   "outputs": [
    {
     "data": {
      "text/plain": [
       "{'name': 'Ted',\n",
       " 'response': \"I think there are a few things that are probably undercurrents in his book but that are broadly applicable to any form of investing. So the first is having a structure and a discipline to understand philosophically what you're doing, and then what strategy you're implementing to execute on that. So for Yale that was a certain asset class structure, and a very rigorous rebalancing methodology, which was something back in the early 90s that endowments and foundations around the world didn't have. If there was an asset allocation it was a 60/40 mix. And what you would see was that there'd be this theoretical 60/40 mix, and two years later you'd look and the assets would be 70% equities and 30% bonds, depending on what happened in the markets. And that rebalancing strategy is really a disciplined form of buying low and selling high, in assets relative to each other. So there was the overall structure, and for them, it was an equity orientation and the importance of diversification. And that was really relative to the liabilities of an endowment, which were next to none. And then the implementation was a lot about how do you understand who's in your network and what you're competitive advantage is, and then how do you decide to go about who you partner with and how you do it. And what Yale did really brilliantly was create a set of rules that they thought generally speaking are conducive to success in investment management. And with very few exceptions stuck very rigorously to those rules.\"}"
      ]
     },
     "execution_count": 67,
     "metadata": {},
     "output_type": "execute_result"
    }
   ],
   "source": [
    "items[6]"
   ]
  },
  {
   "cell_type": "code",
   "execution_count": 56,
   "id": "e20cb8b0",
   "metadata": {},
   "outputs": [],
   "source": [
    "lines = []\n",
    "for patrick, other in zip(items[1::2], items[2::2]):\n",
    "    prompt = patrick['response']\n",
    "    completition = other['response']\n",
    "    lines.append({'prompt': prompt, 'completion': completition})"
   ]
  },
  {
   "cell_type": "code",
   "execution_count": 59,
   "id": "07d5b523",
   "metadata": {},
   "outputs": [],
   "source": [
    "df = pd.DataFrame(lines)"
   ]
  },
  {
   "cell_type": "code",
   "execution_count": 69,
   "id": "f8495495",
   "metadata": {},
   "outputs": [
    {
     "data": {
      "text/html": [
       "<div>\n",
       "<style scoped>\n",
       "    .dataframe tbody tr th:only-of-type {\n",
       "        vertical-align: middle;\n",
       "    }\n",
       "\n",
       "    .dataframe tbody tr th {\n",
       "        vertical-align: top;\n",
       "    }\n",
       "\n",
       "    .dataframe thead th {\n",
       "        text-align: right;\n",
       "    }\n",
       "</style>\n",
       "<table border=\"1\" class=\"dataframe\">\n",
       "  <thead>\n",
       "    <tr style=\"text-align: right;\">\n",
       "      <th></th>\n",
       "      <th>prompt</th>\n",
       "      <th>completion</th>\n",
       "    </tr>\n",
       "  </thead>\n",
       "  <tbody>\n",
       "    <tr>\n",
       "      <th>0</th>\n",
       "      <td>What would you say is the main ... Not getting...</td>\n",
       "      <td>Yeah. The aphorism that Michael used for the H...</td>\n",
       "    </tr>\n",
       "    <tr>\n",
       "      <th>1</th>\n",
       "      <td>One of the things that always struck me about ...</td>\n",
       "      <td>Sure. I graduated from Yale back in '92. It wa...</td>\n",
       "    </tr>\n",
       "    <tr>\n",
       "      <th>2</th>\n",
       "      <td>Maybe touch on some of the key formative lesso...</td>\n",
       "      <td>I think there are a few things that are probab...</td>\n",
       "    </tr>\n",
       "    <tr>\n",
       "      <th>3</th>\n",
       "      <td>Kind of like an Atul Gawande checklist manifes...</td>\n",
       "      <td>Very much so.</td>\n",
       "    </tr>\n",
       "    <tr>\n",
       "      <th>4</th>\n",
       "      <td>I'm sure this will be applicable throughout ou...</td>\n",
       "      <td>To circle back on one that is talked about ver...</td>\n",
       "    </tr>\n",
       "  </tbody>\n",
       "</table>\n",
       "</div>"
      ],
      "text/plain": [
       "                                              prompt  \\\n",
       "0  What would you say is the main ... Not getting...   \n",
       "1  One of the things that always struck me about ...   \n",
       "2  Maybe touch on some of the key formative lesso...   \n",
       "3  Kind of like an Atul Gawande checklist manifes...   \n",
       "4  I'm sure this will be applicable throughout ou...   \n",
       "\n",
       "                                          completion  \n",
       "0  Yeah. The aphorism that Michael used for the H...  \n",
       "1  Sure. I graduated from Yale back in '92. It wa...  \n",
       "2  I think there are a few things that are probab...  \n",
       "3                                      Very much so.  \n",
       "4  To circle back on one that is talked about ver...  "
      ]
     },
     "execution_count": 69,
     "metadata": {},
     "output_type": "execute_result"
    }
   ],
   "source": [
    "df.head()"
   ]
  },
  {
   "cell_type": "code",
   "execution_count": 60,
   "id": "4d8dd6aa",
   "metadata": {},
   "outputs": [],
   "source": [
    "df.to_csv('C:\\Temp\\iltb.csv')"
   ]
  }
 ],
 "metadata": {
  "kernelspec": {
   "display_name": "Python 3 (ipykernel)",
   "language": "python",
   "name": "python3"
  },
  "language_info": {
   "codemirror_mode": {
    "name": "ipython",
    "version": 3
   },
   "file_extension": ".py",
   "mimetype": "text/x-python",
   "name": "python",
   "nbconvert_exporter": "python",
   "pygments_lexer": "ipython3",
   "version": "3.9.13"
  }
 },
 "nbformat": 4,
 "nbformat_minor": 5
}
